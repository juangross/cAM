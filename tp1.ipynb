{
  "nbformat": 4,
  "nbformat_minor": 0,
  "metadata": {
    "colab": {
      "name": "tp1.ipynb",
      "provenance": [],
      "authorship_tag": "ABX9TyP+XzNaQ88C2giIqk3SCti2",
      "include_colab_link": true
    },
    "kernelspec": {
      "name": "python3",
      "display_name": "Python 3"
    },
    "language_info": {
      "name": "python"
    },
    "widgets": {
      "application/vnd.jupyter.widget-state+json": {
        "9182b9ea054b406b91f30f9e5407be33": {
          "model_module": "@jupyter-widgets/controls",
          "model_name": "IntSliderModel",
          "model_module_version": "1.5.0",
          "state": {
            "_view_name": "IntSliderView",
            "style": "IPY_MODEL_a6b6aa4823e54ed4b30c9e3638de199c",
            "_dom_classes": [],
            "description": "",
            "step": 1,
            "_model_name": "IntSliderModel",
            "orientation": "horizontal",
            "max": 2,
            "_view_module": "@jupyter-widgets/controls",
            "_model_module_version": "1.5.0",
            "value": 1,
            "_view_count": null,
            "disabled": false,
            "_view_module_version": "1.5.0",
            "min": 0,
            "continuous_update": true,
            "readout_format": "d",
            "description_tooltip": null,
            "readout": true,
            "_model_module": "@jupyter-widgets/controls",
            "layout": "IPY_MODEL_64c4a1e1b7884bce8e19e01b4c5ad9eb"
          }
        },
        "a6b6aa4823e54ed4b30c9e3638de199c": {
          "model_module": "@jupyter-widgets/controls",
          "model_name": "SliderStyleModel",
          "model_module_version": "1.5.0",
          "state": {
            "_view_name": "StyleView",
            "handle_color": null,
            "_model_name": "SliderStyleModel",
            "description_width": "",
            "_view_module": "@jupyter-widgets/base",
            "_model_module_version": "1.5.0",
            "_view_count": null,
            "_view_module_version": "1.2.0",
            "_model_module": "@jupyter-widgets/controls"
          }
        },
        "64c4a1e1b7884bce8e19e01b4c5ad9eb": {
          "model_module": "@jupyter-widgets/base",
          "model_name": "LayoutModel",
          "model_module_version": "1.2.0",
          "state": {
            "_view_name": "LayoutView",
            "grid_template_rows": null,
            "right": null,
            "justify_content": null,
            "_view_module": "@jupyter-widgets/base",
            "overflow": null,
            "_model_module_version": "1.2.0",
            "_view_count": null,
            "flex_flow": null,
            "width": null,
            "min_width": null,
            "border": null,
            "align_items": null,
            "bottom": null,
            "_model_module": "@jupyter-widgets/base",
            "top": null,
            "grid_column": null,
            "overflow_y": null,
            "overflow_x": null,
            "grid_auto_flow": null,
            "grid_area": null,
            "grid_template_columns": null,
            "flex": null,
            "_model_name": "LayoutModel",
            "justify_items": null,
            "grid_row": null,
            "max_height": null,
            "align_content": null,
            "visibility": null,
            "align_self": null,
            "height": null,
            "min_height": null,
            "padding": null,
            "grid_auto_rows": null,
            "grid_gap": null,
            "max_width": null,
            "order": null,
            "_view_module_version": "1.2.0",
            "grid_template_areas": null,
            "object_position": null,
            "object_fit": null,
            "grid_auto_columns": null,
            "margin": null,
            "display": null,
            "left": null
          }
        },
        "f320625154514072b6f91f2f6b98bf9d": {
          "model_module": "@jupyter-widgets/controls",
          "model_name": "ButtonModel",
          "model_module_version": "1.5.0",
          "state": {
            "_view_name": "ButtonView",
            "style": "IPY_MODEL_e15466e631c44c418ecfd18b6bb6c580",
            "_dom_classes": [],
            "description": "Generar salida",
            "_model_name": "ButtonModel",
            "button_style": "",
            "_view_module": "@jupyter-widgets/controls",
            "_model_module_version": "1.5.0",
            "tooltip": "",
            "_view_count": null,
            "disabled": false,
            "_view_module_version": "1.5.0",
            "layout": "IPY_MODEL_2f7f515085da4415beaf6c04725ba4bc",
            "_model_module": "@jupyter-widgets/controls",
            "icon": ""
          }
        },
        "e15466e631c44c418ecfd18b6bb6c580": {
          "model_module": "@jupyter-widgets/controls",
          "model_name": "ButtonStyleModel",
          "model_module_version": "1.5.0",
          "state": {
            "_view_name": "StyleView",
            "_model_name": "ButtonStyleModel",
            "_view_module": "@jupyter-widgets/base",
            "_model_module_version": "1.5.0",
            "_view_count": null,
            "button_color": null,
            "font_weight": "",
            "_view_module_version": "1.2.0",
            "_model_module": "@jupyter-widgets/controls"
          }
        },
        "2f7f515085da4415beaf6c04725ba4bc": {
          "model_module": "@jupyter-widgets/base",
          "model_name": "LayoutModel",
          "model_module_version": "1.2.0",
          "state": {
            "_view_name": "LayoutView",
            "grid_template_rows": null,
            "right": null,
            "justify_content": null,
            "_view_module": "@jupyter-widgets/base",
            "overflow": null,
            "_model_module_version": "1.2.0",
            "_view_count": null,
            "flex_flow": null,
            "width": null,
            "min_width": null,
            "border": null,
            "align_items": null,
            "bottom": null,
            "_model_module": "@jupyter-widgets/base",
            "top": null,
            "grid_column": null,
            "overflow_y": null,
            "overflow_x": null,
            "grid_auto_flow": null,
            "grid_area": null,
            "grid_template_columns": null,
            "flex": null,
            "_model_name": "LayoutModel",
            "justify_items": null,
            "grid_row": null,
            "max_height": null,
            "align_content": null,
            "visibility": null,
            "align_self": null,
            "height": null,
            "min_height": null,
            "padding": null,
            "grid_auto_rows": null,
            "grid_gap": null,
            "max_width": null,
            "order": null,
            "_view_module_version": "1.2.0",
            "grid_template_areas": null,
            "object_position": null,
            "object_fit": null,
            "grid_auto_columns": null,
            "margin": null,
            "display": null,
            "left": null
          }
        },
        "f9326552a1a8479c874221e2c7d54c13": {
          "model_module": "@jupyter-widgets/output",
          "model_name": "OutputModel",
          "model_module_version": "1.0.0",
          "state": {
            "_view_name": "OutputView",
            "msg_id": "",
            "_dom_classes": [],
            "_model_name": "OutputModel",
            "outputs": [
              {
                "output_type": "stream",
                "name": "stdout",
                "text": [
                  "escribiendo archivo: ./cAM/imagenes/output.png\n",
                  "Generando imagen del canal  1\n",
                  "leyendo archivo: ./cAM/imagenes/output.png\n",
                  "imagen de salida:\n"
                ]
              },
              {
                "output_type": "stream",
                "name": "stdout",
                "text": [
                  "imagen de salida:\n"
                ]
              },
              {
                "output_type": "stream",
                "name": "stdout",
                "text": [
                  "imagen de salida:\n"
                ]
              },
              {
                "output_type": "stream",
                "name": "stdout",
                "text": [
                  "imagen de salida:\n"
                ]
              },
              {
                "output_type": "stream",
                "name": "stdout",
                "text": [
                  "imagen de salida:\n"
                ]
              },
              {
                "output_type": "stream",
                "name": "stdout",
                "text": [
                  "imagen de salida:\n"
                ]
              },
              {
                "output_type": "stream",
                "name": "stdout",
                "text": [
                  "imagen de salida:\n"
                ]
              },
              {
                "output_type": "stream",
                "name": "stdout",
                "text": [
                  "imagen de salida:\n"
                ]
              },
              {
                "output_type": "stream",
                "name": "stdout",
                "text": [
                  "imagen de salida:\n"
                ]
              }
            ],
            "_view_module": "@jupyter-widgets/output",
            "_model_module_version": "1.0.0",
            "_view_count": null,
            "_view_module_version": "1.0.0",
            "layout": "IPY_MODEL_6d18a3b342854138b77673d278223d46",
            "_model_module": "@jupyter-widgets/output"
          }
        },
        "6d18a3b342854138b77673d278223d46": {
          "model_module": "@jupyter-widgets/base",
          "model_name": "LayoutModel",
          "model_module_version": "1.2.0",
          "state": {
            "_view_name": "LayoutView",
            "grid_template_rows": null,
            "right": null,
            "justify_content": null,
            "_view_module": "@jupyter-widgets/base",
            "overflow": null,
            "_model_module_version": "1.2.0",
            "_view_count": null,
            "flex_flow": null,
            "width": null,
            "min_width": null,
            "border": null,
            "align_items": null,
            "bottom": null,
            "_model_module": "@jupyter-widgets/base",
            "top": null,
            "grid_column": null,
            "overflow_y": null,
            "overflow_x": null,
            "grid_auto_flow": null,
            "grid_area": null,
            "grid_template_columns": null,
            "flex": null,
            "_model_name": "LayoutModel",
            "justify_items": null,
            "grid_row": null,
            "max_height": null,
            "align_content": null,
            "visibility": null,
            "align_self": null,
            "height": null,
            "min_height": null,
            "padding": null,
            "grid_auto_rows": null,
            "grid_gap": null,
            "max_width": null,
            "order": null,
            "_view_module_version": "1.2.0",
            "grid_template_areas": null,
            "object_position": null,
            "object_fit": null,
            "grid_auto_columns": null,
            "margin": null,
            "display": null,
            "left": null
          }
        },
        "ad247934c68f4e4d84916d6eb041446c": {
          "model_module": "@jupyter-widgets/controls",
          "model_name": "IntSliderModel",
          "model_module_version": "1.5.0",
          "state": {
            "_view_name": "IntSliderView",
            "style": "IPY_MODEL_c6dfc31bc4444e96b54b7507bcd4b31e",
            "_dom_classes": [],
            "description": "",
            "step": 1,
            "_model_name": "IntSliderModel",
            "orientation": "horizontal",
            "max": 2,
            "_view_module": "@jupyter-widgets/controls",
            "_model_module_version": "1.5.0",
            "value": 2,
            "_view_count": null,
            "disabled": false,
            "_view_module_version": "1.5.0",
            "min": 0,
            "continuous_update": true,
            "readout_format": "d",
            "description_tooltip": null,
            "readout": true,
            "_model_module": "@jupyter-widgets/controls",
            "layout": "IPY_MODEL_bbf5fe1c18914e4abce649a3817b1f56"
          }
        },
        "c6dfc31bc4444e96b54b7507bcd4b31e": {
          "model_module": "@jupyter-widgets/controls",
          "model_name": "SliderStyleModel",
          "model_module_version": "1.5.0",
          "state": {
            "_view_name": "StyleView",
            "handle_color": null,
            "_model_name": "SliderStyleModel",
            "description_width": "",
            "_view_module": "@jupyter-widgets/base",
            "_model_module_version": "1.5.0",
            "_view_count": null,
            "_view_module_version": "1.2.0",
            "_model_module": "@jupyter-widgets/controls"
          }
        },
        "bbf5fe1c18914e4abce649a3817b1f56": {
          "model_module": "@jupyter-widgets/base",
          "model_name": "LayoutModel",
          "model_module_version": "1.2.0",
          "state": {
            "_view_name": "LayoutView",
            "grid_template_rows": null,
            "right": null,
            "justify_content": null,
            "_view_module": "@jupyter-widgets/base",
            "overflow": null,
            "_model_module_version": "1.2.0",
            "_view_count": null,
            "flex_flow": null,
            "width": null,
            "min_width": null,
            "border": null,
            "align_items": null,
            "bottom": null,
            "_model_module": "@jupyter-widgets/base",
            "top": null,
            "grid_column": null,
            "overflow_y": null,
            "overflow_x": null,
            "grid_auto_flow": null,
            "grid_area": null,
            "grid_template_columns": null,
            "flex": null,
            "_model_name": "LayoutModel",
            "justify_items": null,
            "grid_row": null,
            "max_height": null,
            "align_content": null,
            "visibility": null,
            "align_self": null,
            "height": null,
            "min_height": null,
            "padding": null,
            "grid_auto_rows": null,
            "grid_gap": null,
            "max_width": null,
            "order": null,
            "_view_module_version": "1.2.0",
            "grid_template_areas": null,
            "object_position": null,
            "object_fit": null,
            "grid_auto_columns": null,
            "margin": null,
            "display": null,
            "left": null
          }
        },
        "a6362eeae1964b3f9ff9d1e9de60513e": {
          "model_module": "@jupyter-widgets/controls",
          "model_name": "IntSliderModel",
          "model_module_version": "1.5.0",
          "state": {
            "_view_name": "IntSliderView",
            "style": "IPY_MODEL_2dd755be732c44838ab239b5b4a1d39d",
            "_dom_classes": [],
            "description": "",
            "step": 1,
            "_model_name": "IntSliderModel",
            "orientation": "horizontal",
            "max": 255,
            "_view_module": "@jupyter-widgets/controls",
            "_model_module_version": "1.5.0",
            "value": 255,
            "_view_count": null,
            "disabled": false,
            "_view_module_version": "1.5.0",
            "min": 0,
            "continuous_update": true,
            "readout_format": "d",
            "description_tooltip": null,
            "readout": true,
            "_model_module": "@jupyter-widgets/controls",
            "layout": "IPY_MODEL_02335acb7a844ba89af8e4bd56a0eade"
          }
        },
        "2dd755be732c44838ab239b5b4a1d39d": {
          "model_module": "@jupyter-widgets/controls",
          "model_name": "SliderStyleModel",
          "model_module_version": "1.5.0",
          "state": {
            "_view_name": "StyleView",
            "handle_color": null,
            "_model_name": "SliderStyleModel",
            "description_width": "",
            "_view_module": "@jupyter-widgets/base",
            "_model_module_version": "1.5.0",
            "_view_count": null,
            "_view_module_version": "1.2.0",
            "_model_module": "@jupyter-widgets/controls"
          }
        },
        "02335acb7a844ba89af8e4bd56a0eade": {
          "model_module": "@jupyter-widgets/base",
          "model_name": "LayoutModel",
          "model_module_version": "1.2.0",
          "state": {
            "_view_name": "LayoutView",
            "grid_template_rows": null,
            "right": null,
            "justify_content": null,
            "_view_module": "@jupyter-widgets/base",
            "overflow": null,
            "_model_module_version": "1.2.0",
            "_view_count": null,
            "flex_flow": null,
            "width": null,
            "min_width": null,
            "border": null,
            "align_items": null,
            "bottom": null,
            "_model_module": "@jupyter-widgets/base",
            "top": null,
            "grid_column": null,
            "overflow_y": null,
            "overflow_x": null,
            "grid_auto_flow": null,
            "grid_area": null,
            "grid_template_columns": null,
            "flex": null,
            "_model_name": "LayoutModel",
            "justify_items": null,
            "grid_row": null,
            "max_height": null,
            "align_content": null,
            "visibility": null,
            "align_self": null,
            "height": null,
            "min_height": null,
            "padding": null,
            "grid_auto_rows": null,
            "grid_gap": null,
            "max_width": null,
            "order": null,
            "_view_module_version": "1.2.0",
            "grid_template_areas": null,
            "object_position": null,
            "object_fit": null,
            "grid_auto_columns": null,
            "margin": null,
            "display": null,
            "left": null
          }
        },
        "f4ff42407598433499773729ad6b05b6": {
          "model_module": "@jupyter-widgets/controls",
          "model_name": "ButtonModel",
          "model_module_version": "1.5.0",
          "state": {
            "_view_name": "ButtonView",
            "style": "IPY_MODEL_68f648d9b07046e5828b29ff937813ae",
            "_dom_classes": [],
            "description": "Generar salida",
            "_model_name": "ButtonModel",
            "button_style": "",
            "_view_module": "@jupyter-widgets/controls",
            "_model_module_version": "1.5.0",
            "tooltip": "",
            "_view_count": null,
            "disabled": false,
            "_view_module_version": "1.5.0",
            "layout": "IPY_MODEL_fa916e3c90fb4cb0bf09968b1cd722e8",
            "_model_module": "@jupyter-widgets/controls",
            "icon": ""
          }
        },
        "68f648d9b07046e5828b29ff937813ae": {
          "model_module": "@jupyter-widgets/controls",
          "model_name": "ButtonStyleModel",
          "model_module_version": "1.5.0",
          "state": {
            "_view_name": "StyleView",
            "_model_name": "ButtonStyleModel",
            "_view_module": "@jupyter-widgets/base",
            "_model_module_version": "1.5.0",
            "_view_count": null,
            "button_color": null,
            "font_weight": "",
            "_view_module_version": "1.2.0",
            "_model_module": "@jupyter-widgets/controls"
          }
        },
        "fa916e3c90fb4cb0bf09968b1cd722e8": {
          "model_module": "@jupyter-widgets/base",
          "model_name": "LayoutModel",
          "model_module_version": "1.2.0",
          "state": {
            "_view_name": "LayoutView",
            "grid_template_rows": null,
            "right": null,
            "justify_content": null,
            "_view_module": "@jupyter-widgets/base",
            "overflow": null,
            "_model_module_version": "1.2.0",
            "_view_count": null,
            "flex_flow": null,
            "width": null,
            "min_width": null,
            "border": null,
            "align_items": null,
            "bottom": null,
            "_model_module": "@jupyter-widgets/base",
            "top": null,
            "grid_column": null,
            "overflow_y": null,
            "overflow_x": null,
            "grid_auto_flow": null,
            "grid_area": null,
            "grid_template_columns": null,
            "flex": null,
            "_model_name": "LayoutModel",
            "justify_items": null,
            "grid_row": null,
            "max_height": null,
            "align_content": null,
            "visibility": null,
            "align_self": null,
            "height": null,
            "min_height": null,
            "padding": null,
            "grid_auto_rows": null,
            "grid_gap": null,
            "max_width": null,
            "order": null,
            "_view_module_version": "1.2.0",
            "grid_template_areas": null,
            "object_position": null,
            "object_fit": null,
            "grid_auto_columns": null,
            "margin": null,
            "display": null,
            "left": null
          }
        },
        "7f8179227c074a218f94c30b8ee32014": {
          "model_module": "@jupyter-widgets/output",
          "model_name": "OutputModel",
          "model_module_version": "1.0.0",
          "state": {
            "_view_name": "OutputView",
            "msg_id": "",
            "_dom_classes": [],
            "_model_name": "OutputModel",
            "outputs": [
              {
                "output_type": "stream",
                "name": "stdout",
                "text": [
                  "imagen de salida:\n"
                ]
              }
            ],
            "_view_module": "@jupyter-widgets/output",
            "_model_module_version": "1.0.0",
            "_view_count": null,
            "_view_module_version": "1.0.0",
            "layout": "IPY_MODEL_e7d4a7e2328c44f5a121453b0dff9fb8",
            "_model_module": "@jupyter-widgets/output"
          }
        },
        "e7d4a7e2328c44f5a121453b0dff9fb8": {
          "model_module": "@jupyter-widgets/base",
          "model_name": "LayoutModel",
          "model_module_version": "1.2.0",
          "state": {
            "_view_name": "LayoutView",
            "grid_template_rows": null,
            "right": null,
            "justify_content": null,
            "_view_module": "@jupyter-widgets/base",
            "overflow": null,
            "_model_module_version": "1.2.0",
            "_view_count": null,
            "flex_flow": null,
            "width": null,
            "min_width": null,
            "border": null,
            "align_items": null,
            "bottom": null,
            "_model_module": "@jupyter-widgets/base",
            "top": null,
            "grid_column": null,
            "overflow_y": null,
            "overflow_x": null,
            "grid_auto_flow": null,
            "grid_area": null,
            "grid_template_columns": null,
            "flex": null,
            "_model_name": "LayoutModel",
            "justify_items": null,
            "grid_row": null,
            "max_height": null,
            "align_content": null,
            "visibility": null,
            "align_self": null,
            "height": null,
            "min_height": null,
            "padding": null,
            "grid_auto_rows": null,
            "grid_gap": null,
            "max_width": null,
            "order": null,
            "_view_module_version": "1.2.0",
            "grid_template_areas": null,
            "object_position": null,
            "object_fit": null,
            "grid_auto_columns": null,
            "margin": null,
            "display": null,
            "left": null
          }
        }
      }
    }
  },
  "cells": [
    {
      "cell_type": "markdown",
      "metadata": {
        "id": "view-in-github",
        "colab_type": "text"
      },
      "source": [
        "<a href=\"https://colab.research.google.com/github/juangross/cAM/blob/main/tp1.ipynb\" target=\"_parent\"><img src=\"https://colab.research.google.com/assets/colab-badge.svg\" alt=\"Open In Colab\"/></a>"
      ]
    },
    {
      "cell_type": "markdown",
      "metadata": {
        "id": "CxMykC7sXHzB"
      },
      "source": [
        "TP1)La actividad consiste en:\n",
        "\n",
        "* Métodos para abrir una imagen de un archivo y disponer la información en una componente imagen. (tamaño, canales, formato, etc)\n",
        "* Métodos para guardar la información de una componente imagen a un archivo.\n",
        "* Métodos para acceder a una componente imagen y leer o modificar su contenido.\n",
        "* Métodos para graficar o modificar una componente imagen.\n",
        "\n",
        "\n",
        "\n",
        "**Observaciones**: se busca que desarrollen un código que permita abrir una imagen, conocer las características de esta, luego modificarla mediante alguna alteración en los canales RGB, graficarla y luego guardar el resultado como una imagen nueva. "
      ]
    },
    {
      "cell_type": "code",
      "metadata": {
        "colab": {
          "base_uri": "https://localhost:8080/"
        },
        "id": "kExOJibbk49t",
        "outputId": "fb0fc241-fbff-400d-86d8-7eb4d84dec06"
      },
      "source": [
        "!git clone https://github.com/juangross/cAM"
      ],
      "execution_count": 1,
      "outputs": [
        {
          "output_type": "stream",
          "name": "stdout",
          "text": [
            "Cloning into 'cAM'...\n",
            "remote: Enumerating objects: 13, done.\u001b[K\n",
            "remote: Counting objects: 100% (13/13), done.\u001b[K\n",
            "remote: Compressing objects: 100% (13/13), done.\u001b[K\n",
            "remote: Total 13 (delta 2), reused 0 (delta 0), pack-reused 0\u001b[K\n",
            "Unpacking objects: 100% (13/13), done.\n"
          ]
        }
      ]
    },
    {
      "cell_type": "markdown",
      "metadata": {
        "id": "BnhULGc8NHf6"
      },
      "source": [
        "* Métodos para abrir una imagen de un archivo y disponer la información en una componente imagen. (tamaño, canales, formato, etc)"
      ]
    },
    {
      "cell_type": "code",
      "metadata": {
        "colab": {
          "base_uri": "https://localhost:8080/",
          "height": 187
        },
        "id": "ipgsT-WZkGmP",
        "outputId": "b7f9b90e-118d-425d-91b1-a5358e4c9dba"
      },
      "source": [
        "import matplotlib.pyplot as plt\n",
        "import matplotlib.image as mpimg\n",
        "import imageio as img\n",
        "\n",
        "\n",
        "# Import an image from directory:\n",
        "path=\"./cAM/imagenes/\"\n",
        "archi=\"patron_RGBCMYWK\"\n",
        "archo=\"output\"\n",
        "archo2=\"output2\"\n",
        "ext=\"png\"\n",
        "\n",
        "#formato actual\n",
        "\n",
        "print(\"leyendo archivo:\", f\"{path}{archi}.{ext}\")\n",
        "#input_image= mpimg.imread(f\"{archi}.{ext}\")  #lee con matplotlib\n",
        "input_image=img.imread(f\"{path}{archi}.{ext}\")      #lee con imageio\n",
        "\n",
        "#formatos mas antiguos pero compatibles hacia atrás\n",
        "#input_image= mpimg.imread(\"{}.{}\".format(archi,ext))\n",
        "#input_image= mpimg.imread(\"{}.{}\" % (archi,ext))     #este no anduvo, revisar\n",
        "print (\"imagen de entrada\")\n",
        "plt.imshow(input_image)\n",
        "\n"
      ],
      "execution_count": 16,
      "outputs": [
        {
          "output_type": "stream",
          "name": "stdout",
          "text": [
            "leyendo archivo: ./cAM/imagenes/patron_RGBCMYWK.png\n",
            "imagen de entrada\n"
          ]
        },
        {
          "output_type": "execute_result",
          "data": {
            "text/plain": [
              "<matplotlib.image.AxesImage at 0x7fe2281fac90>"
            ]
          },
          "metadata": {},
          "execution_count": 16
        },
        {
          "output_type": "display_data",
          "data": {
            "image/png": "[encoded data removed]",
            "text/plain": [
              "<Figure size 432x288 with 1 Axes>"
            ]
          },
          "metadata": {
            "needs_background": "light"
          }
        }
      ]
    },
    {
      "cell_type": "code",
      "metadata": {
        "colab": {
          "base_uri": "https://localhost:8080/"
        },
        "id": "2-GHWXm0dKJ1",
        "outputId": "65eb191f-ff14-47cf-d990-71bc53567d77"
      },
      "source": [
        "input_tam=input_image.shape\n",
        "\n",
        "print(\"Dimensiones (X,Y,canales): \", input_tam)\n",
        "print(\"tipo de datos: \" , input_image.dtype)\n",
        "\n",
        "print(\"Datos en crudo: \")\n",
        "input_image[:,:,:]\n"
      ],
      "execution_count": 17,
      "outputs": [
        {
          "output_type": "stream",
          "name": "stdout",
          "text": [
            "Dimensiones (X,Y,canales):  (4, 16, 3)\n",
            "tipo de datos:  uint8\n",
            "Datos en crudo: \n"
          ]
        },
        {
          "output_type": "execute_result",
          "data": {
            "text/plain": [
              "Array([[[255,   0,   0],\n",
              "        [255,   0,   0],\n",
              "        [  0, 255,   0],\n",
              "        [  0, 255,   0],\n",
              "        [  0,   0, 255],\n",
              "        [  0,   0, 255],\n",
              "        [  0, 255, 255],\n",
              "        [  0, 255, 255],\n",
              "        [255,   0, 255],\n",
              "        [255,   0, 255],\n",
              "        [255, 255,   0],\n",
              "        [255, 255,   0],\n",
              "        [255, 255, 255],\n",
              "        [255, 255, 255],\n",
              "        [  0,   0,   0],\n",
              "        [  0,   0,   0]],\n",
              "\n",
              "       [[255,   0,   0],\n",
              "        [255,   0,   0],\n",
              "        [  0, 255,   0],\n",
              "        [  0, 255,   0],\n",
              "        [  0,   0, 255],\n",
              "        [  0,   0, 255],\n",
              "        [  0, 255, 255],\n",
              "        [  0, 255, 255],\n",
              "        [255,   0, 255],\n",
              "        [255,   0, 255],\n",
              "        [255, 255,   0],\n",
              "        [255, 255,   0],\n",
              "        [255, 255, 255],\n",
              "        [255, 255, 255],\n",
              "        [  0,   0,   0],\n",
              "        [  0,   0,   0]],\n",
              "\n",
              "       [[255,   0,   0],\n",
              "        [255,   0,   0],\n",
              "        [  0, 255,   0],\n",
              "        [  0, 255,   0],\n",
              "        [  0,   0, 255],\n",
              "        [  0,   0, 255],\n",
              "        [  0, 255, 255],\n",
              "        [  0, 255, 255],\n",
              "        [255,   0, 255],\n",
              "        [255,   0, 255],\n",
              "        [255, 255,   0],\n",
              "        [255, 255,   0],\n",
              "        [255, 255, 255],\n",
              "        [255, 255, 255],\n",
              "        [  0,   0,   0],\n",
              "        [  0,   0,   0]],\n",
              "\n",
              "       [[255,   0,   0],\n",
              "        [255,   0,   0],\n",
              "        [  0, 255,   0],\n",
              "        [  0, 255,   0],\n",
              "        [  0,   0, 255],\n",
              "        [  0,   0, 255],\n",
              "        [  0, 255, 255],\n",
              "        [  0, 255, 255],\n",
              "        [255,   0, 255],\n",
              "        [255,   0, 255],\n",
              "        [255, 255,   0],\n",
              "        [255, 255,   0],\n",
              "        [255, 255, 255],\n",
              "        [255, 255, 255],\n",
              "        [  0,   0,   0],\n",
              "        [  0,   0,   0]]], dtype=uint8)"
            ]
          },
          "metadata": {},
          "execution_count": 17
        }
      ]
    },
    {
      "cell_type": "markdown",
      "metadata": {
        "id": "ODO6dIX1Qqxp"
      },
      "source": [
        "* Métodos para guardar la información de una componente imagen a un archivo."
      ]
    },
    {
      "cell_type": "code",
      "metadata": {
        "colab": {
          "base_uri": "https://localhost:8080/",
          "height": 435,
          "referenced_widgets": [
            "9182b9ea054b406b91f30f9e5407be33",
            "a6b6aa4823e54ed4b30c9e3638de199c",
            "64c4a1e1b7884bce8e19e01b4c5ad9eb",
            "f320625154514072b6f91f2f6b98bf9d",
            "e15466e631c44c418ecfd18b6bb6c580",
            "2f7f515085da4415beaf6c04725ba4bc",
            "f9326552a1a8479c874221e2c7d54c13",
            "6d18a3b342854138b77673d278223d46"
          ]
        },
        "id": "aWh5G_LvSNKp",
        "outputId": "98663c37-478e-48ef-d469-db0df2fafafa"
      },
      "source": [
        "# permite elegir un canal de input_image y generar un archivo sólo de ese canal, luego lo lee y muestra en pantalla\n",
        "import ipywidgets as widgets\n",
        "sCanal = widgets.IntSlider(value=0, max=2)\n",
        "print(\"Seleccione un canal [0 - 2]\")\n",
        "display(sCanal)\n",
        "\n",
        "button = widgets.Button(description=\"Generar salida\")\n",
        "output = widgets.Output()\n",
        "\n",
        "def on_button_clicked(b):\n",
        "  \n",
        "  with output:\n",
        "    print(\"escribiendo archivo:\", f\"{path}{archo}.{ext}\")\n",
        "    print(\"Generando imagen del canal \", sCanal.value)\n",
        "    output_image=img.imwrite(f\"{path}{archo}.{ext}\", input_image[:,:,sCanal.value])\n",
        "\n",
        "    print(\"leyendo archivo:\", f\"{path}{archo}.{ext}\")\n",
        "    output_image=img.imread(f\"{path}{archo}.{ext}\")      #lee con imageio\n",
        "    print (\"imagen de salida:\")\n",
        "    plt.imshow(output_image)\n",
        "\n",
        "button.on_click(on_button_clicked)\n",
        "display(button, output)\n",
        "\n"
      ],
      "execution_count": 18,
      "outputs": [
        {
          "output_type": "stream",
          "name": "stdout",
          "text": [
            "Seleccione un canal [0 - 2]\n"
          ]
        },
        {
          "output_type": "display_data",
          "data": {
            "application/vnd.jupyter.widget-view+json": {
              "model_id": "9182b9ea054b406b91f30f9e5407be33",
              "version_minor": 0,
              "version_major": 2
            },
            "text/plain": [
              "IntSlider(value=0, max=2)"
            ]
          },
          "metadata": {}
        },
        {
          "output_type": "display_data",
          "data": {
            "application/vnd.jupyter.widget-view+json": {
              "model_id": "f320625154514072b6f91f2f6b98bf9d",
              "version_minor": 0,
              "version_major": 2
            },
            "text/plain": [
              "Button(description='Generar salida', style=ButtonStyle())"
            ]
          },
          "metadata": {}
        },
        {
          "output_type": "display_data",
          "data": {
            "application/vnd.jupyter.widget-view+json": {
              "model_id": "f9326552a1a8479c874221e2c7d54c13",
              "version_minor": 0,
              "version_major": 2
            },
            "text/plain": [
              "Output()"
            ]
          },
          "metadata": {}
        },
        {
          "output_type": "display_data",
          "data": {
            "image/png": "[encoded data removed]",
            "text/plain": [
              "<Figure size 432x288 with 1 Axes>"
            ]
          },
          "metadata": {
            "needs_background": "light"
          }
        }
      ]
    },
    {
      "cell_type": "markdown",
      "metadata": {
        "id": "AmugZWIB0CvG"
      },
      "source": [
        "* Métodos para acceder a una componente imagen y leer o modificar su contenido\n",
        "* Métodos para graficar o modificar una componente imagen"
      ]
    },
    {
      "cell_type": "code",
      "metadata": {
        "colab": {
          "base_uri": "https://localhost:8080/",
          "height": 1000,
          "referenced_widgets": [
            "ad247934c68f4e4d84916d6eb041446c",
            "c6dfc31bc4444e96b54b7507bcd4b31e",
            "bbf5fe1c18914e4abce649a3817b1f56",
            "a6362eeae1964b3f9ff9d1e9de60513e",
            "2dd755be732c44838ab239b5b4a1d39d",
            "02335acb7a844ba89af8e4bd56a0eade",
            "f4ff42407598433499773729ad6b05b6",
            "68f648d9b07046e5828b29ff937813ae",
            "fa916e3c90fb4cb0bf09968b1cd722e8",
            "7f8179227c074a218f94c30b8ee32014",
            "e7d4a7e2328c44f5a121453b0dff9fb8"
          ]
        },
        "id": "An9BGS0S0GDz",
        "outputId": "3b4653e1-b183-40f1-96f0-5c761b1c67d9"
      },
      "source": [
        "#Funcionamiento deseado\n",
        "#El usuario elije un canal y un valor, la rutina\n",
        "# debe alterar el valor de cada pixel de ese canal y pisarlo con el valor seleccionado\n",
        "\n",
        "#observaciones JP\n",
        "#no me queda claro como python ordena las coordenadas de las matrices\n",
        "#estoy acostumbrado a [fila,columna,dimensión 3, dimensión 4, etc]\n",
        "#pero parece que python lo hace de manera diferente\n",
        "\n",
        "import ipywidgets as widgets\n",
        "sCanal2 = widgets.IntSlider(value=0, max=2)\n",
        "print(\"Seleccione un canal [0 - 2]\")\n",
        "display(sCanal2)\n",
        "\n",
        "sValor = widgets.IntSlider(value=128, max=255)\n",
        "print(\"Seleccione un valor:\" )\n",
        "display(sValor)\n",
        "\n",
        "\n",
        "button2 = widgets.Button(description=\"Generar salida\")\n",
        "output = widgets.Output()\n",
        "\n",
        "\n",
        "def on_button2_clicked(b):\n",
        "  tmp_image=input_image\n",
        "  #tmp_image[0,:,sCanal2.value]=  sValor.value\n",
        "  \n",
        "  for j in range(input_tam[1]):\n",
        "    for i in range(input_tam[0]):\n",
        "  \n",
        "      #si el valor del pixel es >0 lo piso con el valor nuevo\n",
        "      if(tmp_image[i,j,sCanal2.value]):\n",
        "        tmp_image[i,j,sCanal2.value]=sValor.value\n",
        "  \n",
        "  with output:\n",
        "    #print (\"imagen alterada:\")\n",
        "    #tmp_image[:,:,:]\n",
        "    output_image2=img.imwrite(f\"{path}{archo2}.{ext}\", tmp_image[:,:,:])\n",
        "    #print(\"leyendo archivo:\", f\"{path}{archo2}.{ext}\")\n",
        "    output_image2=img.imread(f\"{path}{archo2}.{ext}\")      #lee con imageio\n",
        "    print (\"imagen de salida:\")\n",
        "    plt.imshow(output_image2)\n",
        "\n",
        "\n",
        "button2.on_click(on_button2_clicked)\n",
        "display(button2, output)\n",
        "\n",
        "\n"
      ],
      "execution_count": 14,
      "outputs": [
        {
          "output_type": "stream",
          "name": "stdout",
          "text": [
            "Seleccione un canal [0 - 2]\n"
          ]
        },
        {
          "output_type": "display_data",
          "data": {
            "application/vnd.jupyter.widget-view+json": {
              "model_id": "ad247934c68f4e4d84916d6eb041446c",
              "version_minor": 0,
              "version_major": 2
            },
            "text/plain": [
              "IntSlider(value=0, max=2)"
            ]
          },
          "metadata": {}
        },
        {
          "output_type": "stream",
          "name": "stdout",
          "text": [
            "Seleccione un valor:\n"
          ]
        },
        {
          "output_type": "display_data",
          "data": {
            "application/vnd.jupyter.widget-view+json": {
              "model_id": "a6362eeae1964b3f9ff9d1e9de60513e",
              "version_minor": 0,
              "version_major": 2
            },
            "text/plain": [
              "IntSlider(value=128, max=255)"
            ]
          },
          "metadata": {}
        },
        {
          "output_type": "display_data",
          "data": {
            "application/vnd.jupyter.widget-view+json": {
              "model_id": "f4ff42407598433499773729ad6b05b6",
              "version_minor": 0,
              "version_major": 2
            },
            "text/plain": [
              "Button(description='Generar salida', style=ButtonStyle())"
            ]
          },
          "metadata": {}
        },
        {
          "output_type": "display_data",
          "data": {
            "application/vnd.jupyter.widget-view+json": {
              "model_id": "7f8179227c074a218f94c30b8ee32014",
              "version_minor": 0,
              "version_major": 2
            },
            "text/plain": [
              "Output()"
            ]
          },
          "metadata": {}
        },
        {
          "output_type": "display_data",
          "data": {
            "image/png": "[encoded data removed]",
            "text/plain": [
              "<Figure size 432x288 with 1 Axes>"
            ]
          },
          "metadata": {
            "needs_background": "light"
          }
        },
        {
          "output_type": "display_data",
          "data": {
            "image/png": "[encoded data removed]",
            "text/plain": [
              "<Figure size 432x288 with 1 Axes>"
            ]
          },
          "metadata": {
            "needs_background": "light"
          }
        },
        {
          "output_type": "display_data",
          "data": {
            "image/png": "[encoded data removed]",
            "text/plain": [
              "<Figure size 432x288 with 1 Axes>"
            ]
          },
          "metadata": {
            "needs_background": "light"
          }
        },
        {
          "output_type": "display_data",
          "data": {
            "image/png": "[encoded data removed]",
            "text/plain": [
              "<Figure size 432x288 with 1 Axes>"
            ]
          },
          "metadata": {
            "needs_background": "light"
          }
        },
        {
          "output_type": "display_data",
          "data": {
            "image/png": "[encoded data removed]",
            "text/plain": [
              "<Figure size 432x288 with 1 Axes>"
            ]
          },
          "metadata": {
            "needs_background": "light"
          }
        },
        {
          "output_type": "display_data",
          "data": {
            "image/png": "[encoded data removed]",
            "text/plain": [
              "<Figure size 432x288 with 1 Axes>"
            ]
          },
          "metadata": {
            "needs_background": "light"
          }
        },
        {
          "output_type": "display_data",
          "data": {
            "image/png": "[encoded data removed]",
            "text/plain": [
              "<Figure size 432x288 with 1 Axes>"
            ]
          },
          "metadata": {
            "needs_background": "light"
          }
        },
        {
          "output_type": "display_data",
          "data": {
            "image/png": "[encoded data removed]",
            "text/plain": [
              "<Figure size 432x288 with 1 Axes>"
            ]
          },
          "metadata": {
            "needs_background": "light"
          }
        },
        {
          "output_type": "display_data",
          "data": {
            "image/png": "[encoded data removed]",
            "text/plain": [
              "<Figure size 432x288 with 1 Axes>"
            ]
          },
          "metadata": {
            "needs_background": "light"
          }
        }
      ]
    }
  ]
}